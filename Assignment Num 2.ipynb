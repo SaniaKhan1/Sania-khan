{
 "cells": [
  {
   "cell_type": "markdown",
   "metadata": {},
   "source": [
    "## Assignment Num #2"
   ]
  },
  {
   "cell_type": "markdown",
   "metadata": {},
   "source": [
    "### Num is positive or not"
   ]
  },
  {
   "cell_type": "code",
   "execution_count": 1,
   "metadata": {},
   "outputs": [
    {
     "name": "stdout",
     "output_type": "stream",
     "text": [
      "number is positive\n"
     ]
    }
   ],
   "source": [
    "a = 10\n",
    "if (a > 0):\n",
    "    print(\"number is positive\")\n",
    "else:\n",
    "    print(\"number is negative\")"
   ]
  },
  {
   "cell_type": "markdown",
   "metadata": {},
   "source": [
    "### find Average"
   ]
  },
  {
   "cell_type": "code",
   "execution_count": 2,
   "metadata": {},
   "outputs": [
    {
     "name": "stdout",
     "output_type": "stream",
     "text": [
      "average is  23.6\n"
     ]
    }
   ],
   "source": [
    "(m1,m2,m3,m4,m5) = (4,5,6,7,8)\n",
    "avg = (m1+m2+m3+m4+m5/5)\n",
    "print (\"average is \" , avg)"
   ]
  },
  {
   "cell_type": "markdown",
   "metadata": {},
   "source": [
    "### Quotient and Remainder"
   ]
  },
  {
   "cell_type": "code",
   "execution_count": 3,
   "metadata": {},
   "outputs": [
    {
     "name": "stdout",
     "output_type": "stream",
     "text": [
      "2.5 1\n"
     ]
    }
   ],
   "source": [
    "num1 = 2\n",
    "num2 = 5\n",
    "quo = (num2/num1)\n",
    "remainder = (num2%num1)\n",
    "print (quo , remainder)"
   ]
  },
  {
   "cell_type": "code",
   "execution_count": 4,
   "metadata": {},
   "outputs": [
    {
     "name": "stdout",
     "output_type": "stream",
     "text": [
      "condition doesn't satisfy for [0, 2, 3, 4, 6, 8, 9, 10, 12, 14, 15, 16, 18, 20, 21, 22, 24, 26, 27, 28, 30, 32, 33, 34, 36, 38, 39, 40, 42, 44, 45, 46, 48, 50] condition satisfy for [1, 5, 7, 11, 13, 17, 19, 23, 25, 29, 31, 35, 37, 41, 43, 47, 49]\n",
      "condition satisfy for [1, 5, 7, 11, 13, 17, 19, 23, 25, 29, 31, 35, 37, 41, 43, 47, 49]\n"
     ]
    }
   ],
   "source": [
    "y=[]\n",
    "o=[]\n",
    "for i in range (51):\n",
    "    if (i % 2!=0 and i % 3!=0):\n",
    "        y.append(i)\n",
    "    else:\n",
    "         o.append(i)\n",
    "print(\"condition doesn't satisfy for\",o,\"condition satisfy for\", y)\n",
    "print(\"condition satisfy for\", y)"
   ]
  },
  {
   "cell_type": "code",
   "execution_count": 5,
   "metadata": {},
   "outputs": [
    {
     "name": "stdout",
     "output_type": "stream",
     "text": [
      "enter first element4\n",
      "enter second element3\n",
      "7\n"
     ]
    }
   ],
   "source": [
    "Ele1=int(input(\"enter first element\"))\n",
    "Ele2=int(input(\"enter second element\"))\n",
    "Ele1= Ele1+Ele2\n",
    "print (Ele1)"
   ]
  },
  {
   "cell_type": "code",
   "execution_count": 6,
   "metadata": {},
   "outputs": [
    {
     "name": "stdout",
     "output_type": "stream",
     "text": [
      "16.5\n",
      "area of the triangle is: 123.78332884520435\n"
     ]
    }
   ],
   "source": [
    "(A,B,C)=(5,8,7)\n",
    "Z=(A+B+C/2)\n",
    "print(Z)\n",
    "Area = ((Z*(Z-A)*(Z-B)*(Z-C))) **0.5\n",
    "print(\"area of the triangle is:\" , Area)"
   ]
  },
  {
   "cell_type": "code",
   "execution_count": 7,
   "metadata": {},
   "outputs": [
    {
     "name": "stdout",
     "output_type": "stream",
     "text": [
      "odd numbers [1, 3, 5, 7, 9, 11, 13]\n",
      "even numbers [2, 4, 6, 8, 10, 12, 14]\n"
     ]
    }
   ],
   "source": [
    "l1 =[]\n",
    "l2 =[]\n",
    "for i in range(1,15):\n",
    "    if (i%2)==0:\n",
    "        l1.append(i)\n",
    "    else:\n",
    "        l2.append(i)\n",
    "\n",
    "print(\"odd numbers\",l2)\n",
    "print(\"even numbers\", l1)"
   ]
  },
  {
   "cell_type": "code",
   "execution_count": 8,
   "metadata": {},
   "outputs": [
    {
     "name": "stdout",
     "output_type": "stream",
     "text": [
      "[0, 1, 1, 2, 4, 6, 8, 9]\n",
      "[9, 8, 6, 4, 2, 1, 1, 0]\n",
      "1\n"
     ]
    }
   ],
   "source": [
    "l1=[1,8,6,4,9,1,2,0]\n",
    "l1.sort()\n",
    "print(l1)\n",
    "l1.sort(reverse=True)\n",
    "print(l1)\n",
    "print(l1[-2])"
   ]
  },
  {
   "cell_type": "code",
   "execution_count": 9,
   "metadata": {},
   "outputs": [
    {
     "name": "stdout",
     "output_type": "stream",
     "text": [
      "[0, 1, 2]\n",
      "[0, 1, 2, 3, 4]\n",
      "[0, 1, 2, 0, 1, 2, 3, 4]\n"
     ]
    }
   ],
   "source": [
    "limit1=3\n",
    "limit2=5\n",
    "a=[]\n",
    "b=[]\n",
    "for i in range(3):\n",
    "     if (i<limit1):\n",
    "        a.append(i)\n",
    "print(a)\n",
    "for x in range(5):\n",
    "    if (x<limit2):\n",
    "        b.append(x)\n",
    "print(b)\n",
    "lst1=a\n",
    "lst2=b\n",
    "    #print(lst1)\n",
    "merge = (lst1+lst2)\n",
    "print(merge)"
   ]
  },
  {
   "cell_type": "code",
   "execution_count": null,
   "metadata": {},
   "outputs": [],
   "source": []
  }
 ],
 "metadata": {
  "kernelspec": {
   "display_name": "Python 3",
   "language": "python",
   "name": "python3"
  },
  "language_info": {
   "codemirror_mode": {
    "name": "ipython",
    "version": 3
   },
   "file_extension": ".py",
   "mimetype": "text/x-python",
   "name": "python",
   "nbconvert_exporter": "python",
   "pygments_lexer": "ipython3",
   "version": "3.7.3"
  }
 },
 "nbformat": 4,
 "nbformat_minor": 2
}
