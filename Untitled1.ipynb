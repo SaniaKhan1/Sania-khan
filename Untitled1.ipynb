{
 "cells": [
  {
   "cell_type": "code",
   "execution_count": 1,
   "metadata": {},
   "outputs": [
    {
     "name": "stdout",
     "output_type": "stream",
     "text": [
      "i love pakistan and pakistan is my beloved country\n",
      "iaa\n",
      "ytucdvlby intia n askpeo \n"
     ]
    }
   ],
   "source": [
    "p= \"i love pakistan and pakistan is my beloved country\"\n",
    "print (p)\n",
    "print (p[10:18:3]) #start end step\n",
    "print (p [::-2])"
   ]
  },
  {
   "cell_type": "code",
   "execution_count": 4,
   "metadata": {},
   "outputs": [
    {
     "data": {
      "text/plain": [
       "'      sania khan'"
      ]
     },
     "execution_count": 4,
     "metadata": {},
     "output_type": "execute_result"
    }
   ],
   "source": [
    "name1=\"      sania khan      \"\n",
    "len(name1) \n",
    "name1.rstrip()"
   ]
  },
  {
   "cell_type": "markdown",
   "metadata": {},
   "source": []
  },
  {
   "cell_type": "code",
   "execution_count": 7,
   "metadata": {},
   "outputs": [
    {
     "ename": "SyntaxError",
     "evalue": "invalid syntax (<ipython-input-7-1e5420f4ce15>, line 6)",
     "output_type": "error",
     "traceback": [
      "\u001b[1;36m  File \u001b[1;32m\"<ipython-input-7-1e5420f4ce15>\"\u001b[1;36m, line \u001b[1;32m6\u001b[0m\n\u001b[1;33m    print(len(name 1))\u001b[0m\n\u001b[1;37m                   ^\u001b[0m\n\u001b[1;31mSyntaxError\u001b[0m\u001b[1;31m:\u001b[0m invalid syntax\n"
     ]
    }
   ],
   "source": [
    "name1 = \"         sania khan             \"\n",
    "print(len(name1))\n",
    "name1 = name1.rstrip()\n",
    "print(len(name1))\n",
    "name1 = name1.lstrip()\n",
    "print(len(name 1))"
   ]
  },
  {
   "cell_type": "code",
   "execution_count": 11,
   "metadata": {},
   "outputs": [
    {
     "name": "stdout",
     "output_type": "stream",
     "text": [
      "['i', 'love', 'pakistan', 'and', 'pakistan', 'is', 'my', 'beloved', 'country']\n",
      "['i love ', 'akistan and ', 'akistan is my beloved country']\n",
      "['', ' love pak', 'stan and pak', 'stan ', 's my beloved country']\n"
     ]
    }
   ],
   "source": [
    "p= \"i love pakistan and pakistan is my beloved country\"\n",
    "n = p.split()\n",
    "print(n)\n",
    "o = p.split('p')\n",
    "print(o)\n",
    "y = p.split('i')\n",
    "print(y)"
   ]
  },
  {
   "cell_type": "code",
   "execution_count": 12,
   "metadata": {},
   "outputs": [
    {
     "name": "stdout",
     "output_type": "stream",
     "text": [
      "ilovepakistanandpakistanismybelovedcountry\n"
     ]
    }
   ],
   "source": [
    "#join using\n",
    "p= \"i love pakistan and pakistan is my beloved country\"\n",
    "k = ''\n",
    "print(k.join(n))"
   ]
  },
  {
   "cell_type": "code",
   "execution_count": 15,
   "metadata": {},
   "outputs": [
    {
     "name": "stdout",
     "output_type": "stream",
     "text": [
      "\n",
      "student name: Sania khan\n",
      "Batch: 3\n",
      "University : Bahria university\n",
      "\n"
     ]
    }
   ],
   "source": [
    "#card multi-line str\n",
    "card = '''\n",
    "student name: Sania khan\n",
    "Batch: 3\n",
    "University : Bahria university\n",
    "'''\n",
    "print(card)"
   ]
  },
  {
   "cell_type": "code",
   "execution_count": 20,
   "metadata": {},
   "outputs": [
    {
     "ename": "SyntaxError",
     "evalue": "unexpected EOF while parsing (<ipython-input-20-e8a538383707>, line 8)",
     "output_type": "error",
     "traceback": [
      "\u001b[1;36m  File \u001b[1;32m\"<ipython-input-20-e8a538383707>\"\u001b[1;36m, line \u001b[1;32m8\u001b[0m\n\u001b[1;33m    %(batch,centre,name))\u001b[0m\n\u001b[1;37m                         ^\u001b[0m\n\u001b[1;31mSyntaxError\u001b[0m\u001b[1;31m:\u001b[0m unexpected EOF while parsing\n"
     ]
    }
   ],
   "source": [
    "#using % and %s\n",
    "#%d for int\n",
    "#%s for string\n",
    "name = 'sania khan'\n",
    "batch = '3'\n",
    "centre = 'bahria uni'\n",
    "print ((\"student name: %s\" \n",
    "       \"batch: %s\" \n",
    "~    \"centre: %s\" \n",
    "    %(batch,centre,name))"
   ]
  },
  {
   "cell_type": "code",
   "execution_count": null,
   "metadata": {},
   "outputs": [],
   "source": []
  }
 ],
 "metadata": {
  "kernelspec": {
   "display_name": "Python 3",
   "language": "python",
   "name": "python3"
  },
  "language_info": {
   "codemirror_mode": {
    "name": "ipython",
    "version": 3
   },
   "file_extension": ".py",
   "mimetype": "text/x-python",
   "name": "python",
   "nbconvert_exporter": "python",
   "pygments_lexer": "ipython3",
   "version": "3.7.3"
  }
 },
 "nbformat": 4,
 "nbformat_minor": 2
}
